{
  "nbformat": 4,
  "nbformat_minor": 0,
  "metadata": {
    "colab": {
      "provenance": [],
      "authorship_tag": "ABX9TyPl7HuEWbvXma0BrCJqiJBX",
      "include_colab_link": true
    },
    "kernelspec": {
      "name": "python3",
      "display_name": "Python 3"
    },
    "language_info": {
      "name": "python"
    }
  },
  "cells": [
    {
      "cell_type": "markdown",
      "metadata": {
        "id": "view-in-github",
        "colab_type": "text"
      },
      "source": [
        "<a href=\"https://colab.research.google.com/github/s1w4e/ML_icp2/blob/main/Ml_icp2.ipynb\" target=\"_parent\"><img src=\"https://colab.research.google.com/assets/colab-badge.svg\" alt=\"Open In Colab\"/></a>"
      ]
    },
    {
      "cell_type": "markdown",
      "source": [
        "1.Use a python code to display the following star pattern using the for loop"
      ],
      "metadata": {
        "id": "JJWy4fQWAdFk"
      }
    },
    {
      "cell_type": "code",
      "execution_count": 67,
      "metadata": {
        "colab": {
          "base_uri": "https://localhost:8080/"
        },
        "id": "ansSlzY-0YEe",
        "outputId": "f861650a-05b6-49aa-f07f-b08e5ca4f666"
      },
      "outputs": [
        {
          "output_type": "stream",
          "name": "stdout",
          "text": [
            "* \r\n",
            "* * \r\n",
            "* * * \r\n",
            "* * * * \r\n",
            "* * * * * \r\n",
            "* * * * \r\n",
            "* * * \r\n",
            "* * \r\n",
            "* \r\n",
            "\r\n"
          ]
        }
      ],
      "source": [
        "rows = 5\n",
        "#printing upper half of pattern\n",
        "for i in range(0,rows):\n",
        "  #Inner loop to print stars 0 to i stars\n",
        "    for j in range(0,i+1):\n",
        "      print(\"*\", end=' ')\n",
        "    print(\"\\r\")\n",
        "#printing lower half of pattern\n",
        "for i in range(rows,0,-1):\n",
        "  #Inner loop to print stars i-1 to 0 stars\n",
        "    for j in range(0,i-1):\n",
        "      print(\"*\", end=' ')\n",
        "    print(\"\\r\")"
      ]
    },
    {
      "cell_type": "markdown",
      "source": [
        "2. Use looping to output the elements from a provided list present at odd indexes.\n",
        "my_list = [10, 20, 30, 40, 50, 60, 70, 80, 90, 100]"
      ],
      "metadata": {
        "id": "WiinQ6KtzS0T"
      }
    },
    {
      "cell_type": "code",
      "source": [
        "my_list=[10,20,30,40,50,60,70,80,90,100]\n",
        "#starts at the first odd index,1,and has a step value of 2,so it returns odd indices\n",
        "for i in range(1, len(my_list), 2):\n",
        "  print(my_list[i],end=\" \")\n"
      ],
      "metadata": {
        "colab": {
          "base_uri": "https://localhost:8080/"
        },
        "id": "Ty_5sB7bzX3I",
        "outputId": "53c34342-2192-4cc5-ec7b-e944d55924e1"
      },
      "execution_count": 68,
      "outputs": [
        {
          "output_type": "stream",
          "name": "stdout",
          "text": [
            "20 40 60 80 100 "
          ]
        }
      ]
    },
    {
      "cell_type": "markdown",
      "source": [
        "3.Write a code that appends the type of elements from a given list. Input x = [23, ‘Python’, 23.98] Expected output [23, 'Python', 23.98] [<class 'int'>, <class 'str'>, <class 'float'>]"
      ],
      "metadata": {
        "id": "FbFjeldE1OtQ"
      }
    },
    {
      "cell_type": "code",
      "source": [
        "x=[23,'Python', 23.98]\n",
        "a=[] #empty list to store data types\n",
        "for item in x:\n",
        "  #get the data type of the current element at index i from the list x\n",
        "  a.append(type(item))\n",
        "print(x)\n",
        "print(a)"
      ],
      "metadata": {
        "colab": {
          "base_uri": "https://localhost:8080/"
        },
        "id": "4NZufxOB1RGM",
        "outputId": "e8eedca2-1ea4-4a07-bd8c-13fd7137139d"
      },
      "execution_count": 69,
      "outputs": [
        {
          "output_type": "stream",
          "name": "stdout",
          "text": [
            "[23, 'Python', 23.98]\n",
            "[<class 'int'>, <class 'str'>, <class 'float'>]\n"
          ]
        }
      ]
    },
    {
      "cell_type": "markdown",
      "source": [
        "4.Write a function that takes a list and returns a new list with unique items of the first list.\n",
        "Sample List: [1,2,3,3,3,3,4,5]\n",
        "Unique List: [1, 2, 3, 4, 5]"
      ],
      "metadata": {
        "id": "Gcn-K7Wt2AJh"
      }
    },
    {
      "cell_type": "code",
      "source": [
        "def unique_list(Sample_list):\n",
        "  unique_elements=[] #empty list to store unique_elements\n",
        "  for item in Sample_list:\n",
        "    #check if the item is not present in unique_elements\n",
        "    if item not in unique_elements:\n",
        "      #if not present add to unique_elements list\n",
        "      unique_elements.append(item)\n",
        "  return unique_elements\n",
        "print(unique_list([1,2,3,3,3,3,4,5]))"
      ],
      "metadata": {
        "colab": {
          "base_uri": "https://localhost:8080/"
        },
        "id": "aUWC6qnV2eXe",
        "outputId": "20bfdfb2-35c7-4237-a601-f86f65d1f205"
      },
      "execution_count": 78,
      "outputs": [
        {
          "output_type": "stream",
          "name": "stdout",
          "text": [
            "[1, 2, 3, 4, 5]\n"
          ]
        }
      ]
    },
    {
      "cell_type": "markdown",
      "source": [
        "5.Write a function that accepts a string and calculate the number of upper-case letters and lower-case\n",
        "letters.\n",
        "Input String: 'The quick Brow Fox'\n",
        "Expected Output:\n",
        "No. of Upper-case characters: 3\n",
        "No. of Lower-case Characters: 12"
      ],
      "metadata": {
        "id": "xjelByX33sSZ"
      }
    },
    {
      "cell_type": "code",
      "source": [
        "def count_uppercase_lowercase(s):\n",
        "  #dictionary to store the count\n",
        "    char_count={\"UPPER_CASE\":0, \"LOWER_CASE\":0}\n",
        "    for c in s:\n",
        "        if c.isupper():# to check if character is uppercase or not\n",
        "           char_count[\"UPPER_CASE\"]+=1\n",
        "        elif c.islower(): # to check if character is lowercase or not\n",
        "           char_count[\"LOWER_CASE\"]+=1\n",
        "           #Ignore other characters\n",
        "        else:\n",
        "           pass\n",
        "    print (\"Original String : \", s)\n",
        "    print (\"No. of Upper case characters : \", char_count[\"UPPER_CASE\"])\n",
        "    print (\"No. of Lower case Characters : \", char_count[\"LOWER_CASE\"])\n",
        "#call the function with sample string\n",
        "count_uppercase_lowercase('The quick Brow Fox')"
      ],
      "metadata": {
        "colab": {
          "base_uri": "https://localhost:8080/"
        },
        "id": "yGclSPow3w0R",
        "outputId": "f88451b9-a1d5-47cd-c22d-27d11ecd587f"
      },
      "execution_count": 74,
      "outputs": [
        {
          "output_type": "stream",
          "name": "stdout",
          "text": [
            "Original String :  The quick Brow Fox\n",
            "No. of Upper case characters :  3\n",
            "No. of Lower case Characters :  12\n"
          ]
        }
      ]
    },
    {
      "cell_type": "code",
      "source": [],
      "metadata": {
        "id": "icJfuVdgF0br"
      },
      "execution_count": null,
      "outputs": []
    }
  ]
}